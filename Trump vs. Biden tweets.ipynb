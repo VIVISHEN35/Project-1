{
 "cells": [
  {
   "cell_type": "markdown",
   "id": "c48e1fb5",
   "metadata": {},
   "source": [
    "#### Introduction:"
   ]
  },
  {
   "cell_type": "markdown",
   "id": "adc5e45e",
   "metadata": {},
   "source": [
    "The 2020 US election attracted attentions from people around the world, which took place against the backdrop of the global COVID-19 pandemic and COVID-19 recession. In this research, we will be focusing on investigaing the battle between the Democratic ticket of former vice president Joe Biden and the incumbent Republican president Donald Trump by examining how is the tweets info (likes, retweets numbers, followers) and the distributuon of tweets impact the election result."
   ]
  },
  {
   "cell_type": "markdown",
   "id": "dfb79bca",
   "metadata": {},
   "source": [
    "#### Data Source:"
   ]
  },
  {
   "cell_type": "markdown",
   "id": "e6fa7b89",
   "metadata": {},
   "source": [
    "The data is provided by Manch Hui, (https://www.kaggle.com/manchunhui/us-election-2020-tweets) under his interests \n",
    "on if there is a correlation between the sentiment of users on Twitter and the eventual election results."
   ]
  },
  {
   "cell_type": "markdown",
   "id": "fdfe1a02",
   "metadata": {},
   "source": [
    "#### Background:"
   ]
  },
  {
   "cell_type": "markdown",
   "id": "04375216",
   "metadata": {},
   "source": [
    "On Nov. 3, local time, the 2020 election day in the United States is officially approaching. \n",
    "Against the backdrop of the ongoing new crown epidemic, intensifying racial tensions and increasingly \n",
    "intense partisan battles, this election is highly anticipated. Whether the incumbent president and Republican \n",
    "presidential candidate Donald Trump wins re-election and continues to govern for four years, or the former \n",
    "vice president and Democratic presidential candidate Joe Biden succeeds in the White House, \n",
    "has been predicted by many.\n",
    "    Compared with past elections, the epidemic has changed the way traditional general elections are conducted, \n",
    "and social media has increased its impact on political discourse in 2020 election.First, the mail-in ballot \n",
    "vote may have skewed voter turnout and bipartisan support. Thus, both parties want to use the mainstream media \n",
    "to sway public opinion."
   ]
  },
  {
   "cell_type": "markdown",
   "id": "cc88ba7b",
   "metadata": {},
   "source": [
    "#### Uncertanity of Prediction:"
   ]
  },
  {
   "cell_type": "markdown",
   "id": "737b139f",
   "metadata": {},
   "source": [
    "At the moment, several explicit and implicit signs point to a high probability of a Biden victory, but not an \"absolute\". \n",
    "    First, the polling between Biden and Trump First, the polls between Biden and Trump have been widening since late September. Second, Biden's race for election money over Trump.Third, the Democratic Party's dominance in the Senate and House of Representatives Fourth, the Democratic Party has the advantage in the race for several key seats in the Senate and House of Representatives, which is good for Biden's campaign.\n",
    "    Trump still has the possibility of flipping at the moment. First, Trump has far more rabid fans than Biden.\n",
    "Second, the issue of the legitimacy of the mail-in ballot may become the main point of conflict."
   ]
  },
  {
   "cell_type": "markdown",
   "id": "d197ab05",
   "metadata": {},
   "source": [
    "#### Election Results: "
   ]
  },
  {
   "cell_type": "markdown",
   "id": "f0b079cc",
   "metadata": {},
   "source": [
    "Joe Biden won the election with 51.3% of the popular vote was the highest for a challenger to an incumbent\n",
    "president since 1932. \n",
    "    Biden won 25 states, the District of Columbia, and one congressional district in Nebraska, totaling 306 electoral\n",
    "votes, while Trump won 25 states and one congressional district in Maine, totaling 232 electoral votes. "
   ]
  },
  {
   "cell_type": "markdown",
   "id": "efa11ec4",
   "metadata": {},
   "source": [
    "##### ------------------------------------------IMPORT DATASETS-------------------------------------------------------------"
   ]
  },
  {
   "cell_type": "code",
   "execution_count": null,
   "id": "dc6cffb9",
   "metadata": {},
   "outputs": [],
   "source": [
    "import random\n",
    "import numpy as np\n",
    "import pandas as pd\n",
    "import matplotlib.pyplot as plt"
   ]
  },
  {
   "cell_type": "code",
   "execution_count": null,
   "id": "c61abbd8",
   "metadata": {},
   "outputs": [],
   "source": [
    "Trump = pd.read_csv('/Users/chenxiaojie/Desktop/Project 1/Data/archive/hashtag_donaldtrump.csv',\n",
    "                    lineterminator='\\n')\n",
    "Biden = pd.read_csv('/Users/chenxiaojie/Desktop/Project 1/Data/archive/hashtag_joebiden.csv',\n",
    "                    lineterminator='\\n')"
   ]
  },
  {
   "cell_type": "code",
   "execution_count": null,
   "id": "d6ac727e",
   "metadata": {
    "scrolled": true
   },
   "outputs": [],
   "source": [
    "Trump.head()"
   ]
  },
  {
   "cell_type": "code",
   "execution_count": null,
   "id": "ed4a05b0",
   "metadata": {
    "scrolled": true
   },
   "outputs": [],
   "source": [
    "Biden.head()"
   ]
  },
  {
   "cell_type": "markdown",
   "id": "8d8c2699",
   "metadata": {},
   "source": [
    "##### -----------------------------------------------------DATA CLEANING----------------------------------------------------"
   ]
  },
  {
   "cell_type": "markdown",
   "id": "cf60b394",
   "metadata": {},
   "source": [
    "Before starting working with the datasets, it is necessary to do some data cleaning first.\n",
    "Drop some columns that does not have close relationship with the variables and outcomes we are digging on.\n",
    "e.g tweet_id, collected_at, source, user_description, source."
   ]
  },
  {
   "cell_type": "code",
   "execution_count": null,
   "id": "39c68383",
   "metadata": {
    "scrolled": true
   },
   "outputs": [],
   "source": [
    "Trump = Trump.drop(columns = ['tweet_id', 'collected_at', 'source', 'user_description','user_id','user_name'])\n",
    "Biden = Biden.drop(columns = ['tweet_id', 'collected_at', 'source', 'user_description','user_id','user_name'])\n",
    "Trump"
   ]
  },
  {
   "cell_type": "code",
   "execution_count": null,
   "id": "02558050",
   "metadata": {
    "scrolled": true
   },
   "outputs": [],
   "source": [
    "Biden"
   ]
  },
  {
   "cell_type": "code",
   "execution_count": null,
   "id": "614820b7",
   "metadata": {},
   "outputs": [],
   "source": [
    "Trump[\"likes\"].sum()"
   ]
  },
  {
   "cell_type": "code",
   "execution_count": null,
   "id": "e7bd8802",
   "metadata": {},
   "outputs": [],
   "source": [
    "Biden[\"likes\"].sum()"
   ]
  },
  {
   "cell_type": "code",
   "execution_count": null,
   "id": "f7487127",
   "metadata": {},
   "outputs": [],
   "source": [
    "Trump[\"retweet_count\"].sum()"
   ]
  },
  {
   "cell_type": "code",
   "execution_count": null,
   "id": "9698d736",
   "metadata": {},
   "outputs": [],
   "source": [
    "Biden[\"retweet_count\"].sum()"
   ]
  },
  {
   "cell_type": "code",
   "execution_count": null,
   "id": "071bf875",
   "metadata": {},
   "outputs": [],
   "source": [
    "Trump[\"user_followers_count\"].sum()"
   ]
  },
  {
   "cell_type": "code",
   "execution_count": null,
   "id": "f64217f6",
   "metadata": {},
   "outputs": [],
   "source": [
    "Biden[\"user_followers_count\"].sum()"
   ]
  },
  {
   "cell_type": "code",
   "execution_count": null,
   "id": "156d45df",
   "metadata": {},
   "outputs": [],
   "source": [
    "fig, ax = plt.subplots()\n",
    "\n",
    "ax.bar([0, 1], [Trump[\"likes\"].sum(), Biden[\"likes\"].sum()], color=\"green\")\n",
    "\n",
    "ax.set_xticks([0, 1])\n",
    "ax.set_xticklabels([\"Trump\", \"Biden\"])\n",
    "ax.set_ylim(7000000, 8000000)\n",
    "\n",
    "ax.xaxis.set_ticks_position('none')\n",
    "ax.yaxis.set_ticks_position('none')\n",
    "\n",
    "for _spine in [\"right\", \"top\", \"left\", \"bottom\"]:\n",
    "    ax.spines[_spine].set_visible(False)\n",
    "\n",
    "ax.set_title(\"Trump vs. Biden in Tweets Likes\")"
   ]
  },
  {
   "cell_type": "code",
   "execution_count": null,
   "id": "adcaa8d6",
   "metadata": {},
   "outputs": [],
   "source": [
    "fig, ax = plt.subplots()\n",
    "\n",
    "ax.bar([0, 1], [Trump[\"retweet_count\"].sum(), Biden[\"retweet_count\"].sum()], color=\"blue\")\n",
    "\n",
    "ax.set_xticks([0, 1])\n",
    "ax.set_xticklabels([\"Trump\", \"Biden\"])\n",
    "ax.set_ylim(1640000, 1660000)\n",
    "\n",
    "ax.xaxis.set_ticks_position('none')\n",
    "ax.yaxis.set_ticks_position('none')\n",
    "\n",
    "for _spine in [\"right\", \"top\", \"left\", \"bottom\"]:\n",
    "    ax.spines[_spine].set_visible(False)\n",
    "\n",
    "ax.set_title(\"Trump vs. Biden in retweet number\")"
   ]
  },
  {
   "cell_type": "code",
   "execution_count": null,
   "id": "18661749",
   "metadata": {},
   "outputs": [],
   "source": [
    "fig, ax = plt.subplots()\n",
    "\n",
    "ax.bar([0, 1], [Trump[\"user_followers_count\"].sum(), Biden[\"user_followers_count\"].sum()], color=\"orange\")\n",
    "\n",
    "ax.set_xticks([0, 1])\n",
    "ax.set_xticklabels([\"Trump\", \"Biden\"])\n",
    "ax.set_ylim(21500000000, 22500000000)\n",
    "\n",
    "ax.xaxis.set_ticks_position('none')\n",
    "ax.yaxis.set_ticks_position('none')\n",
    "\n",
    "for _spine in [\"right\", \"top\", \"left\", \"bottom\"]:\n",
    "    ax.spines[_spine].set_visible(False)\n",
    "\n",
    "ax.set_title(\"Trump vs. Biden in User Followers Count\")"
   ]
  },
  {
   "cell_type": "markdown",
   "id": "3bbc236c",
   "metadata": {},
   "source": [
    "According to the background mentioned above, The epidemic has changed the traditional way of general elections, and mail-in voting may lead to deviations in voter turnout and bipartisan support, triggering more \n",
    "conflicts.Also, with the upward trend of social media's strength on political discourse, self-publishing has become\n",
    "an outlet for social sentiment, resulting in voter sentiment being easily swayed by public opinion in the short term.\n",
    "From the graphs and sum value comparison above, we could understand that tweets likes number, retweet number, and user follower number for Biden are all higher than Trump, which all implying to the election result: Biden won the election.\n",
    "Even though there might be some other political facts that lead to this result, the tweets trend and the result of the \n",
    "election is positively correlated. We will then continue with further analysis under the tweets count."
   ]
  },
  {
   "cell_type": "markdown",
   "id": "6f7f755a",
   "metadata": {},
   "source": [
    "##### -----------------------------------------------------------COMPARISON OVER TIME----------------------------------------------------------------------------"
   ]
  },
  {
   "cell_type": "code",
   "execution_count": null,
   "id": "ed746604",
   "metadata": {},
   "outputs": [],
   "source": [
    "Trump[['created_at', 'likes','retweet_count','user_followers_count']]"
   ]
  },
  {
   "cell_type": "code",
   "execution_count": null,
   "id": "d879250c",
   "metadata": {},
   "outputs": [],
   "source": [
    "Biden[['created_at', 'likes','retweet_count','user_followers_count']]"
   ]
  },
  {
   "cell_type": "code",
   "execution_count": null,
   "id": "d47c5acf",
   "metadata": {},
   "outputs": [],
   "source": []
  },
  {
   "cell_type": "code",
   "execution_count": null,
   "id": "a3d0eec4",
   "metadata": {},
   "outputs": [],
   "source": []
  },
  {
   "cell_type": "code",
   "execution_count": null,
   "id": "bd34d25a",
   "metadata": {},
   "outputs": [],
   "source": []
  }
 ],
 "metadata": {
  "kernelspec": {
   "display_name": "Python 3 (ipykernel)",
   "language": "python",
   "name": "python3"
  },
  "language_info": {
   "codemirror_mode": {
    "name": "ipython",
    "version": 3
   },
   "file_extension": ".py",
   "mimetype": "text/x-python",
   "name": "python",
   "nbconvert_exporter": "python",
   "pygments_lexer": "ipython3",
   "version": "3.9.7"
  }
 },
 "nbformat": 4,
 "nbformat_minor": 5
}
